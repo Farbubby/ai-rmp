{
 "cells": [
  {
   "cell_type": "code",
   "execution_count": 1,
   "metadata": {},
   "outputs": [],
   "source": [
    "from webscraper import webscraper as ws"
   ]
  },
  {
   "cell_type": "code",
   "execution_count": 2,
   "metadata": {},
   "outputs": [
    {
     "name": "stdout",
     "output_type": "stream",
     "text": [
      "\n",
      "[Professor Info]\n",
      "\n",
      "Overall rating - 4.1/5\n",
      "Number of ratings - 138 ratings\n",
      "Professor name - Andrew Steinberg \n",
      "Professor department - Computer Science department\n",
      "University name - University of Central Florida\n",
      "Level of difficulty - 3.3/5\n",
      "Would take again - 93%\n",
      "Classes taught - [' COP3223H', ' COP3223', ' COP3503', ' COP3503H', ' COP3503C', ' COP3223C', ' COT6410']\n",
      "Top tags - ['Amazing lectures ', 'Clear grading criteria', 'Tough grader', 'Caring', 'Test heavy']\n",
      "Recent comments - [\"Steinberg is a great professor. He explains things in a way that makes it easy to understand for almost everyone (new programmer friendly) and will go over things as many times as you need. You can test your assignments using his test cases before submitting to make sure you got a 100. He's also super friendly and fun. Bonus questions on tests.\", 'Mr. Steinberg had a great lecture structure: you follow along with the code building logic, he uses digital images to illustrate concepts, and he included funny little references to franchises in coding assignments.  I utilized the outside hours a lot; he helps guide you in the right direction without direct answers.  Head to office hours early!', \"Great at explaining the material but the pacing was not very good. Took the same amount of time to go over the easier material and the harder material which rushed us to wrap up the content at the end of the semester. Grading was inconsistent if you don't like your test grade the TAs graded wrong so go check it.\", \"Steinberg is honestly a really good lecturer and I understand why he is so highly rated, however he was just too paranoid and strict for me to enjoy the course as he didn't seem so forgiving if you are not as detail-oriented as him. Quizzes were online with 3 tries each, making them worth practicing instead of trying to just get the good grade.\", \"He's an excellent professor, has fair exams, and enjoyed the PAs. But, my biggest problem was him and his TAs when it came down to grading exam papers. All three of my exams had to be restored because the TA couldn't even read their own handwriting for a score and graded against the wrong version of the exam. Had to fight for my A.\", 'Dr. Steinberg is one of my favorite professors in the cs department. He doesn\\'t make exams with questions that try to \"trick\" you, everything is fair. He records all his lectures and generally takes feedback from students on what they want practice on. While the material for this class can be daunting, I always came out of the exams confident.', 'Good lecturer and the coding assignments are fair (not too hard not too easy). Could organize the course a little better I think we spent too much time on the east material for the first test which squeezed time for the hard material on the last. I respect that you can check your test at any point during the semester to see what you did wrong.', \"Amazing professor! He really knows how to explain the subject. He could go a bit faster I feel, but I think he wants to make sure we are comfortable with the material which isn't bad. Assignments were very mixed in difficulty (some felt harder than others), but were relatable to what was taught. He also provides supplemental problems to practice.\", 'Professor was great. Material in CS2 varies in difficulty (mix of easy, medium, and hard). Assignments were always related to material covered in class. Exams had everything he covered in lecture. Lectures are recorded which is good, but definitely recommend going to class, especially if you want to ask questions.', 'Not the professor you want to take if you want rigor. He is far too easy and will not prepare you well enough for interviews, especially in his CS2 class.', 'You can tell Dr. Steinberg really cares that his students learn. I personally could have done more with going to TA review sessions or asking for clarifications when need be, but the system works well and if you care you will do good.', 'Always very enthusiastic about subject. You can tell from lectures he enjoys the material. Mainly handwrites notes in class along with some live coding. Also provides slides of notes that are typed up and will reference them. Assignments, tests, and quizzes were fair.', \"He writes everything in the note apps, which is difficult to follow. I always got lost in the class, and reading the notes or watching the recording was not helpful (he always pointed to the notes that weren't captured in the recording). Hopefully, he is getting better in the future. In addition, he is strict with his rule (less accommodating)\", 'This is perhaps the HARDEST class I have taken as grad student ever, but Dr. Steinberg is AMAZING!! This was his first time teaching the class and he was very caring in ensuring we all understood the subject. He would take his time in lectures to really make sure understand the theory of computation. ', \"Overall a good professor. He goes into depth on all the topics, so you will have to keep up with them; otherwise, you might be left behind. However, the material isn't too difficult, and they are recorded. His programming assignments were all very useful and fun to create, and they scaled appropriately. \", \"Good lectures and good programming assignments. You are going to learn a lot if you have no background in programming, but will be ready for CS1. Steinberg is very caring and wants you to understand the material. At first the workload seems heavy, but once you get the rhythm of the class it isn't so bad. Great professor that is knowledgeable.\", \"One of the best professors I've ever had at UCF! The material for CS2 is tough, but Steinberg knows how to explain it well. Lectures are crystal clear and somewhat borderline fun. Assignments were good and exams were very fair. He is very clear with his expectations.\", 'Definitely the professor you want if you actually care about learning. Steinberg has one of the best lectures that really helps you understand the concepts in the long run. Assignments can be tough but he has a great support group of TAs. Tests are challenging but fair. Also, he has detailed typed up notes of the content taught which is a plus.', \"I entered the class with some experience, and if you do the same, it will make the class very easy. If not, I think Dr. Steinberg teaches the concepts from the ground up pretty well and makes sure everything is clear. \\n\\nI see people complaining about Eustis. Imo, Eustis was easy to learn. There are 5-ish commands to know and you're golden. \", 'His lectures were easy to follow and he made sure everyone understood the topic. The HWs were somewhat challenging but were pretty fun to do. If you have questions about the coding assignments, there were TAs who were very willing to help. Tests are on paper but are relatively easy if you understand the topics.']\n",
      "\n"
     ]
    },
    {
     "data": {
      "text/plain": [
       "{'rating': '4.1/5',\n",
       " 'num_ratings': '138\\xa0ratings',\n",
       " 'prof_name': 'Andrew Steinberg ',\n",
       " 'prof_dept': 'Computer Science department',\n",
       " 'university_name': 'University of Central Florida',\n",
       " 'difficulty': '3.3/5',\n",
       " 'would_take_again': '93%',\n",
       " 'classes_taught': [' COP3223H',\n",
       "  ' COP3223',\n",
       "  ' COP3503',\n",
       "  ' COP3503H',\n",
       "  ' COP3503C',\n",
       "  ' COP3223C',\n",
       "  ' COT6410'],\n",
       " 'top_tags': ['Amazing lectures ',\n",
       "  'Clear grading criteria',\n",
       "  'Tough grader',\n",
       "  'Caring',\n",
       "  'Test heavy'],\n",
       " 'recent_comments': [\"Steinberg is a great professor. He explains things in a way that makes it easy to understand for almost everyone (new programmer friendly) and will go over things as many times as you need. You can test your assignments using his test cases before submitting to make sure you got a 100. He's also super friendly and fun. Bonus questions on tests.\",\n",
       "  'Mr. Steinberg had a great lecture structure: you follow along with the code building logic, he uses digital images to illustrate concepts, and he included funny little references to franchises in coding assignments.  I utilized the outside hours a lot; he helps guide you in the right direction without direct answers.  Head to office hours early!',\n",
       "  \"Great at explaining the material but the pacing was not very good. Took the same amount of time to go over the easier material and the harder material which rushed us to wrap up the content at the end of the semester. Grading was inconsistent if you don't like your test grade the TAs graded wrong so go check it.\",\n",
       "  \"Steinberg is honestly a really good lecturer and I understand why he is so highly rated, however he was just too paranoid and strict for me to enjoy the course as he didn't seem so forgiving if you are not as detail-oriented as him. Quizzes were online with 3 tries each, making them worth practicing instead of trying to just get the good grade.\",\n",
       "  \"He's an excellent professor, has fair exams, and enjoyed the PAs. But, my biggest problem was him and his TAs when it came down to grading exam papers. All three of my exams had to be restored because the TA couldn't even read their own handwriting for a score and graded against the wrong version of the exam. Had to fight for my A.\",\n",
       "  'Dr. Steinberg is one of my favorite professors in the cs department. He doesn\\'t make exams with questions that try to \"trick\" you, everything is fair. He records all his lectures and generally takes feedback from students on what they want practice on. While the material for this class can be daunting, I always came out of the exams confident.',\n",
       "  'Good lecturer and the coding assignments are fair (not too hard not too easy). Could organize the course a little better I think we spent too much time on the east material for the first test which squeezed time for the hard material on the last. I respect that you can check your test at any point during the semester to see what you did wrong.',\n",
       "  \"Amazing professor! He really knows how to explain the subject. He could go a bit faster I feel, but I think he wants to make sure we are comfortable with the material which isn't bad. Assignments were very mixed in difficulty (some felt harder than others), but were relatable to what was taught. He also provides supplemental problems to practice.\",\n",
       "  'Professor was great. Material in CS2 varies in difficulty (mix of easy, medium, and hard). Assignments were always related to material covered in class. Exams had everything he covered in lecture. Lectures are recorded which is good, but definitely recommend going to class, especially if you want to ask questions.',\n",
       "  'Not the professor you want to take if you want rigor. He is far too easy and will not prepare you well enough for interviews, especially in his CS2 class.',\n",
       "  'You can tell Dr. Steinberg really cares that his students learn. I personally could have done more with going to TA review sessions or asking for clarifications when need be, but the system works well and if you care you will do good.',\n",
       "  'Always very enthusiastic about subject. You can tell from lectures he enjoys the material. Mainly handwrites notes in class along with some live coding. Also provides slides of notes that are typed up and will reference them. Assignments, tests, and quizzes were fair.',\n",
       "  \"He writes everything in the note apps, which is difficult to follow. I always got lost in the class, and reading the notes or watching the recording was not helpful (he always pointed to the notes that weren't captured in the recording). Hopefully, he is getting better in the future. In addition, he is strict with his rule (less accommodating)\",\n",
       "  'This is perhaps the HARDEST class I have taken as grad student ever, but Dr. Steinberg is AMAZING!! This was his first time teaching the class and he was very caring in ensuring we all understood the subject. He would take his time in lectures to really make sure understand the theory of computation. ',\n",
       "  \"Overall a good professor. He goes into depth on all the topics, so you will have to keep up with them; otherwise, you might be left behind. However, the material isn't too difficult, and they are recorded. His programming assignments were all very useful and fun to create, and they scaled appropriately. \",\n",
       "  \"Good lectures and good programming assignments. You are going to learn a lot if you have no background in programming, but will be ready for CS1. Steinberg is very caring and wants you to understand the material. At first the workload seems heavy, but once you get the rhythm of the class it isn't so bad. Great professor that is knowledgeable.\",\n",
       "  \"One of the best professors I've ever had at UCF! The material for CS2 is tough, but Steinberg knows how to explain it well. Lectures are crystal clear and somewhat borderline fun. Assignments were good and exams were very fair. He is very clear with his expectations.\",\n",
       "  'Definitely the professor you want if you actually care about learning. Steinberg has one of the best lectures that really helps you understand the concepts in the long run. Assignments can be tough but he has a great support group of TAs. Tests are challenging but fair. Also, he has detailed typed up notes of the content taught which is a plus.',\n",
       "  \"I entered the class with some experience, and if you do the same, it will make the class very easy. If not, I think Dr. Steinberg teaches the concepts from the ground up pretty well and makes sure everything is clear. \\n\\nI see people complaining about Eustis. Imo, Eustis was easy to learn. There are 5-ish commands to know and you're golden. \",\n",
       "  'His lectures were easy to follow and he made sure everyone understood the topic. The HWs were somewhat challenging but were pretty fun to do. If you have questions about the coding assignments, there were TAs who were very willing to help. Tests are on paper but are relatively easy if you understand the topics.']}"
      ]
     },
     "execution_count": 2,
     "metadata": {},
     "output_type": "execute_result"
    }
   ],
   "source": [
    "ws.scrape_rmp_link(\"https://www.ratemyprofessors.com/professor/2709100\")"
   ]
  }
 ],
 "metadata": {
  "kernelspec": {
   "display_name": ".venv",
   "language": "python",
   "name": "python3"
  },
  "language_info": {
   "codemirror_mode": {
    "name": "ipython",
    "version": 3
   },
   "file_extension": ".py",
   "mimetype": "text/x-python",
   "name": "python",
   "nbconvert_exporter": "python",
   "pygments_lexer": "ipython3",
   "version": "3.10.12"
  }
 },
 "nbformat": 4,
 "nbformat_minor": 2
}
