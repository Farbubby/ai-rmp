{
 "cells": [
  {
   "cell_type": "code",
   "execution_count": 3,
   "metadata": {},
   "outputs": [],
   "source": [
    "from webscraper import webscraper as ws"
   ]
  },
  {
   "cell_type": "code",
   "execution_count": 4,
   "metadata": {},
   "outputs": [
    {
     "name": "stdout",
     "output_type": "stream",
     "text": [
      "\n",
      "[Professor Info]\n",
      "\n",
      "Overall rating - 2.6/5\n",
      "Number of ratings - 38 ratings\n",
      "Professor name - aaa aaa \n",
      "Professor department - Computer Science department\n",
      "University name - San Jose State University\n",
      "Level of difficulty - 4.6/5\n",
      "Would take again - 100%\n",
      "Classes taught - [' RMP', ' ARTS1301', ' CS149', ' CS151', ' CS1', ' CS146']\n",
      "Top tags - ['Inspirational', 'Caring', 'Respected']\n",
      "Recent comments - ['b', 'Is this a RMP easter egg? ', 'Awesome teacher who really cares about making sure that you understand the material. Take him!', 'Really really great cares a lot about your grades and helping. You make clases so interesting.  One of my favorites classes.', 'A woman gave you worst nightmare. Always writing the content of textbook in the blackboard but not teaching you. Never willing to answer question if you did not understand.', \"This professor has a rotten soul. Tests are hard, not because of the content, but because she will take off major points for minor technicalities, correct answers that are too long, or simply because she's in a bad mood. Impossible to approach for help. Becomes irate at the slightest question. Mean mean woman.\", 'very mean professor.', 'if you want an F take this teacher!', \"She's really not that bad. She's hard, but she will prepare you for work in industry. You need to take notes, and study the book. She gives extensive review notes before each exam, so students really have no excuse for getting a bad grade on the test. She's actually a pretty good teacher. Don't listen to the lazy bums.\", \"Extremely HARD Teacher.. TERRIBLE Exams. HARDS Assignments.. Impossible to pass this class with her. She hard to approach. If u ask her a question & if that question happen to be from the prereq class she will drop u from the class. Ppl r scared of asking her questions for that reason. Believe me, You'll NOT pass in her class, Hence DON'T TAKE HER.\"]\n",
      "\n"
     ]
    },
    {
     "data": {
      "text/plain": [
       "{'rating': '2.6/5',\n",
       " 'num_ratings': '38\\xa0ratings',\n",
       " 'prof_name': 'aaa aaa ',\n",
       " 'prof_dept': 'Computer Science department',\n",
       " 'university_name': 'San Jose State University',\n",
       " 'difficulty': '4.6/5',\n",
       " 'would_take_again': '100%',\n",
       " 'classes_taught': [' RMP', ' ARTS1301', ' CS149', ' CS151', ' CS1', ' CS146'],\n",
       " 'top_tags': ['Inspirational', 'Caring', 'Respected'],\n",
       " 'recent_comments': ['b',\n",
       "  'Is this a RMP easter egg? ',\n",
       "  'Awesome teacher who really cares about making sure that you understand the material. Take him!',\n",
       "  'Really really great cares a lot about your grades and helping. You make clases so interesting.  One of my favorites classes.',\n",
       "  'A woman gave you worst nightmare. Always writing the content of textbook in the blackboard but not teaching you. Never willing to answer question if you did not understand.',\n",
       "  \"This professor has a rotten soul. Tests are hard, not because of the content, but because she will take off major points for minor technicalities, correct answers that are too long, or simply because she's in a bad mood. Impossible to approach for help. Becomes irate at the slightest question. Mean mean woman.\",\n",
       "  'very mean professor.',\n",
       "  'if you want an F take this teacher!',\n",
       "  \"She's really not that bad. She's hard, but she will prepare you for work in industry. You need to take notes, and study the book. She gives extensive review notes before each exam, so students really have no excuse for getting a bad grade on the test. She's actually a pretty good teacher. Don't listen to the lazy bums.\",\n",
       "  \"Extremely HARD Teacher.. TERRIBLE Exams. HARDS Assignments.. Impossible to pass this class with her. She hard to approach. If u ask her a question & if that question happen to be from the prereq class she will drop u from the class. Ppl r scared of asking her questions for that reason. Believe me, You'll NOT pass in her class, Hence DON'T TAKE HER.\"]}"
      ]
     },
     "execution_count": 4,
     "metadata": {},
     "output_type": "execute_result"
    }
   ],
   "source": [
    "ws.scrape_rmp_link(\"https://www.ratemyprofessors.com/professor/1\")"
   ]
  }
 ],
 "metadata": {
  "kernelspec": {
   "display_name": ".venv",
   "language": "python",
   "name": "python3"
  },
  "language_info": {
   "codemirror_mode": {
    "name": "ipython",
    "version": 3
   },
   "file_extension": ".py",
   "mimetype": "text/x-python",
   "name": "python",
   "nbconvert_exporter": "python",
   "pygments_lexer": "ipython3",
   "version": "3.10.12"
  }
 },
 "nbformat": 4,
 "nbformat_minor": 2
}
